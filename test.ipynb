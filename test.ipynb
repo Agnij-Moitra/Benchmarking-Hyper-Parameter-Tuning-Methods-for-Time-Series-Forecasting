{
 "cells": [
  {
   "cell_type": "code",
   "execution_count": 1,
   "metadata": {},
   "outputs": [],
   "source": [
    "from utils import *"
   ]
  },
  {
   "cell_type": "code",
   "execution_count": 2,
   "id": "51e40154",
   "metadata": {},
   "outputs": [],
   "source": [
    "data_gen = yield_data()\n",
    "data = next(data_gen)\n",
    "series = next(prepare_time_series(data['df'], data['freq']))"
   ]
  },
  {
   "cell_type": "code",
   "execution_count": 3,
   "id": "b68cf888",
   "metadata": {},
   "outputs": [],
   "source": [
    "# %tb       \n",
    "auto_featurize(series, data['freq'])"
   ]
  },
  {
   "cell_type": "code",
   "execution_count": null,
   "id": "5901cee7",
   "metadata": {},
   "outputs": [],
   "source": [
    "# 114"
   ]
  }
 ],
 "metadata": {
  "kernelspec": {
   "display_name": "mlenv",
   "language": "python",
   "name": "python3"
  },
  "language_info": {
   "codemirror_mode": {
    "name": "ipython",
    "version": 3
   },
   "file_extension": ".py",
   "mimetype": "text/x-python",
   "name": "python",
   "nbconvert_exporter": "python",
   "pygments_lexer": "ipython3",
   "version": "3.10.14"
  }
 },
 "nbformat": 4,
 "nbformat_minor": 5
}
