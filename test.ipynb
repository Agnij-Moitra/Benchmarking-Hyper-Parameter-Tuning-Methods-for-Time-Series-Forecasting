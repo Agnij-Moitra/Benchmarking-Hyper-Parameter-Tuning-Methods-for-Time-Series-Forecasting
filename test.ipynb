{
 "cells": [
  {
   "cell_type": "code",
   "execution_count": 1,
   "id": "5b27a4c9",
   "metadata": {},
   "outputs": [
    {
     "name": "stdout",
     "output_type": "stream",
     "text": [
      "Compiling utils.pyx because it changed.\n",
      "[1/1] Found compiled utils.pyx in cache\n",
      "running build_ext\n",
      "building 'utils' extension\n",
      "creating build/temp.linux-x86_64-cpython-310\n",
      "creating build/temp.linux-x86_64-cpython-310/build\n",
      "gcc -Wno-unused-result -Wsign-compare -DNDEBUG -fwrapv -O2 -Wall -fPIC -O2 -isystem /home/snape/miniconda3/envs/mlenv/include -fPIC -O2 -isystem /home/snape/miniconda3/envs/mlenv/include -fPIC -I/home/snape/miniconda3/envs/mlenv/lib/python3.10/site-packages/numpy/core/include -I/home/snape/miniconda3/envs/mlenv/include/python3.10 -c build/utils.c -o build/temp.linux-x86_64-cpython-310/build/utils.o -O3 -march=native -flto=8\n",
      "In file included from \u001b[01m\u001b[K/home/snape/miniconda3/envs/mlenv/lib/python3.10/site-packages/numpy/core/include/numpy/ndarraytypes.h:1929\u001b[m\u001b[K,\n",
      "                 from \u001b[01m\u001b[K/home/snape/miniconda3/envs/mlenv/lib/python3.10/site-packages/numpy/core/include/numpy/ndarrayobject.h:12\u001b[m\u001b[K,\n",
      "                 from \u001b[01m\u001b[K/home/snape/miniconda3/envs/mlenv/lib/python3.10/site-packages/numpy/core/include/numpy/arrayobject.h:5\u001b[m\u001b[K,\n",
      "                 from \u001b[01m\u001b[Kbuild/utils.c:1257\u001b[m\u001b[K:\n",
      "\u001b[01m\u001b[K/home/snape/miniconda3/envs/mlenv/lib/python3.10/site-packages/numpy/core/include/numpy/npy_1_7_deprecated_api.h:17:2:\u001b[m\u001b[K \u001b[01;35m\u001b[Kwarning: \u001b[m\u001b[K#warning \"Using deprecated NumPy API, disable it with \" \"#define NPY_NO_DEPRECATED_API NPY_1_7_API_VERSION\" [\u001b[01;35m\u001b[K\u001b]8;;https://gcc.gnu.org/onlinedocs/gcc/Warning-Options.html#index-Wcpp\u0007-Wcpp\u001b]8;;\u0007\u001b[m\u001b[K]\n",
      "   17 | #\u001b[01;35m\u001b[Kwarning\u001b[m\u001b[K \"Using deprecated NumPy API, disable it with \" \\\n",
      "      |  \u001b[01;35m\u001b[K^~~~~~~\u001b[m\u001b[K\n",
      "creating build/lib.linux-x86_64-cpython-310\n",
      "gcc -shared -Wl,-rpath,/home/snape/miniconda3/envs/mlenv/lib -Wl,-rpath-link,/home/snape/miniconda3/envs/mlenv/lib -L/home/snape/miniconda3/envs/mlenv/lib -Wl,-rpath,/home/snape/miniconda3/envs/mlenv/lib -Wl,-rpath-link,/home/snape/miniconda3/envs/mlenv/lib -L/home/snape/miniconda3/envs/mlenv/lib build/temp.linux-x86_64-cpython-310/build/utils.o -o build/lib.linux-x86_64-cpython-310/utils.cpython-310-x86_64-linux-gnu.so -flto=8\n",
      "copying build/lib.linux-x86_64-cpython-310/utils.cpython-310-x86_64-linux-gnu.so -> \n"
     ]
    }
   ],
   "source": [
    "!python setup.py build_ext --inplace --verbose"
   ]
  },
  {
   "cell_type": "code",
   "execution_count": 2,
   "metadata": {},
   "outputs": [],
   "source": [
    "from utils import *"
   ]
  },
  {
   "cell_type": "code",
   "execution_count": 3,
   "id": "51e40154",
   "metadata": {},
   "outputs": [],
   "source": [
    "data_gen = yield_data()\n",
    "data = next(data_gen)\n",
    "series = next(prepare_time_series(data['df'], data['freq']))"
   ]
  },
  {
   "cell_type": "code",
   "execution_count": 4,
   "id": "b68cf888",
   "metadata": {},
   "outputs": [
    {
     "name": "stdout",
     "output_type": "stream",
     "text": [
      "Progress: |████████████████----------------------------------| 33% Complete\r"
     ]
    },
    {
     "name": "stderr",
     "output_type": "stream",
     "text": [
      "/home/snape/miniconda3/envs/mlenv/lib/python3.10/site-packages/tsfel/feature_extraction/features.py:535: RuntimeWarning: Precision loss occurred in moment calculation due to catastrophic cancellation. This occurs when the data are nearly identical. Results may be unreliable.\n",
      "  return scipy.stats.kurtosis(signal)\n",
      "/home/snape/miniconda3/envs/mlenv/lib/python3.10/site-packages/tsfel/feature_extraction/features.py:554: RuntimeWarning: Precision loss occurred in moment calculation due to catastrophic cancellation. This occurs when the data are nearly identical. Results may be unreliable.\n",
      "  return scipy.stats.skew(signal)\n"
     ]
    },
    {
     "name": "stdout",
     "output_type": "stream",
     "text": [
      "Progress: |██████████████████████████████████████████████████| 100% Complete\n",
      "Progress: |██------------------------------------------------| 5% Complete\r"
     ]
    },
    {
     "name": "stderr",
     "output_type": "stream",
     "text": [
      "/home/snape/miniconda3/envs/mlenv/lib/python3.10/site-packages/tsfel/feature_extraction/features.py:535: RuntimeWarning: Precision loss occurred in moment calculation due to catastrophic cancellation. This occurs when the data are nearly identical. Results may be unreliable.\n",
      "  return scipy.stats.kurtosis(signal)\n",
      "/home/snape/miniconda3/envs/mlenv/lib/python3.10/site-packages/tsfel/feature_extraction/features.py:554: RuntimeWarning: Precision loss occurred in moment calculation due to catastrophic cancellation. This occurs when the data are nearly identical. Results may be unreliable.\n",
      "  return scipy.stats.skew(signal)\n"
     ]
    },
    {
     "name": "stdout",
     "output_type": "stream",
     "text": [
      "Progress: |██████████████████████████████████████████████████| 100% Complete\n",
      "Progress: |█-------------------------------------------------| 3% Complete\r"
     ]
    },
    {
     "name": "stderr",
     "output_type": "stream",
     "text": [
      "/home/snape/miniconda3/envs/mlenv/lib/python3.10/site-packages/tsfel/feature_extraction/features.py:535: RuntimeWarning: Precision loss occurred in moment calculation due to catastrophic cancellation. This occurs when the data are nearly identical. Results may be unreliable.\n",
      "  return scipy.stats.kurtosis(signal)\n",
      "/home/snape/miniconda3/envs/mlenv/lib/python3.10/site-packages/tsfel/feature_extraction/features.py:554: RuntimeWarning: Precision loss occurred in moment calculation due to catastrophic cancellation. This occurs when the data are nearly identical. Results may be unreliable.\n",
      "  return scipy.stats.skew(signal)\n"
     ]
    },
    {
     "name": "stdout",
     "output_type": "stream",
     "text": [
      "Progress: |██████████████████████████████████████████████████| 100% Complete\n",
      "Progress: |█-------------------------------------------------| 2% Complete\r"
     ]
    },
    {
     "name": "stderr",
     "output_type": "stream",
     "text": [
      "/home/snape/miniconda3/envs/mlenv/lib/python3.10/site-packages/tsfel/feature_extraction/features.py:535: RuntimeWarning: Precision loss occurred in moment calculation due to catastrophic cancellation. This occurs when the data are nearly identical. Results may be unreliable.\n",
      "  return scipy.stats.kurtosis(signal)\n",
      "/home/snape/miniconda3/envs/mlenv/lib/python3.10/site-packages/tsfel/feature_extraction/features.py:554: RuntimeWarning: Precision loss occurred in moment calculation due to catastrophic cancellation. This occurs when the data are nearly identical. Results may be unreliable.\n",
      "  return scipy.stats.skew(signal)\n"
     ]
    },
    {
     "name": "stdout",
     "output_type": "stream",
     "text": [
      "Progress: |██████████████████████████████████████████████████| 100% Complete\n",
      "Progress: |--------------------------------------------------| 1% Complete\r"
     ]
    },
    {
     "name": "stderr",
     "output_type": "stream",
     "text": [
      "/home/snape/miniconda3/envs/mlenv/lib/python3.10/site-packages/tsfel/feature_extraction/features.py:535: RuntimeWarning: Precision loss occurred in moment calculation due to catastrophic cancellation. This occurs when the data are nearly identical. Results may be unreliable.\n",
      "  return scipy.stats.kurtosis(signal)\n",
      "/home/snape/miniconda3/envs/mlenv/lib/python3.10/site-packages/tsfel/feature_extraction/features.py:554: RuntimeWarning: Precision loss occurred in moment calculation due to catastrophic cancellation. This occurs when the data are nearly identical. Results may be unreliable.\n",
      "  return scipy.stats.skew(signal)\n"
     ]
    },
    {
     "name": "stdout",
     "output_type": "stream",
     "text": [
      "Progress: |██████████████████████████████████████████████████| 100% Complete\n",
      "Progress: |--------------------------------------------------| 1% Complete\r"
     ]
    },
    {
     "name": "stderr",
     "output_type": "stream",
     "text": [
      "/home/snape/miniconda3/envs/mlenv/lib/python3.10/site-packages/tsfel/feature_extraction/features.py:535: RuntimeWarning: Precision loss occurred in moment calculation due to catastrophic cancellation. This occurs when the data are nearly identical. Results may be unreliable.\n",
      "  return scipy.stats.kurtosis(signal)\n",
      "/home/snape/miniconda3/envs/mlenv/lib/python3.10/site-packages/tsfel/feature_extraction/features.py:554: RuntimeWarning: Precision loss occurred in moment calculation due to catastrophic cancellation. This occurs when the data are nearly identical. Results may be unreliable.\n",
      "  return scipy.stats.skew(signal)\n"
     ]
    },
    {
     "name": "stdout",
     "output_type": "stream",
     "text": [
      "Progress: |██████████████████████████████████████████████████| 100% Complete\n",
      "Progress: |█-------------------------------------------------| 3% Complete\r"
     ]
    },
    {
     "name": "stderr",
     "output_type": "stream",
     "text": [
      "/home/snape/miniconda3/envs/mlenv/lib/python3.10/site-packages/tsfel/feature_extraction/features.py:535: RuntimeWarning: Precision loss occurred in moment calculation due to catastrophic cancellation. This occurs when the data are nearly identical. Results may be unreliable.\n",
      "  return scipy.stats.kurtosis(signal)\n",
      "/home/snape/miniconda3/envs/mlenv/lib/python3.10/site-packages/tsfel/feature_extraction/features.py:554: RuntimeWarning: Precision loss occurred in moment calculation due to catastrophic cancellation. This occurs when the data are nearly identical. Results may be unreliable.\n",
      "  return scipy.stats.skew(signal)\n"
     ]
    },
    {
     "name": "stdout",
     "output_type": "stream",
     "text": [
      "Progress: |██████████████████████████████████████████████████| 100% Complete\n",
      "Progress: |█-------------------------------------------------| 2% Complete\r"
     ]
    },
    {
     "name": "stderr",
     "output_type": "stream",
     "text": [
      "/home/snape/miniconda3/envs/mlenv/lib/python3.10/site-packages/tsfel/feature_extraction/features.py:535: RuntimeWarning: Precision loss occurred in moment calculation due to catastrophic cancellation. This occurs when the data are nearly identical. Results may be unreliable.\n",
      "  return scipy.stats.kurtosis(signal)\n",
      "/home/snape/miniconda3/envs/mlenv/lib/python3.10/site-packages/tsfel/feature_extraction/features.py:554: RuntimeWarning: Precision loss occurred in moment calculation due to catastrophic cancellation. This occurs when the data are nearly identical. Results may be unreliable.\n",
      "  return scipy.stats.skew(signal)\n"
     ]
    },
    {
     "name": "stdout",
     "output_type": "stream",
     "text": [
      "Progress: |██████████████████████████████████████████████████| 100% Complete\n",
      "47.4 s ± 2.11 s per loop (mean ± std. dev. of 7 runs, 1 loop each)\n"
     ]
    }
   ],
   "source": [
    "%%timeit\n",
    "auto_featurize(series, data['freq'])"
   ]
  },
  {
   "cell_type": "code",
   "execution_count": null,
   "id": "68d4ff8c",
   "metadata": {},
   "outputs": [],
   "source": []
  }
 ],
 "metadata": {
  "kernelspec": {
   "display_name": "mlenv",
   "language": "python",
   "name": "python3"
  },
  "language_info": {
   "codemirror_mode": {
    "name": "ipython",
    "version": 3
   },
   "file_extension": ".py",
   "mimetype": "text/x-python",
   "name": "python",
   "nbconvert_exporter": "python",
   "pygments_lexer": "ipython3",
   "version": "3.10.14"
  }
 },
 "nbformat": 4,
 "nbformat_minor": 5
}
