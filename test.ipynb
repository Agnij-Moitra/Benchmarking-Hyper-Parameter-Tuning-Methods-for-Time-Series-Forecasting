{
 "cells": [
  {
   "cell_type": "code",
   "execution_count": 1,
   "metadata": {},
   "outputs": [],
   "source": [
    "f = open(r\"./data/monash/monash-df.pkl\", \"rb\")"
   ]
  },
  {
   "cell_type": "code",
   "execution_count": 2,
   "id": "a7ad9b6b",
   "metadata": {},
   "outputs": [],
   "source": [
    "import pickle\n",
    "import pandas as pd\n",
    "\n",
    "\n",
    "def yield_data(pickle_file_path=\"./data/monash/monash-df.pkl\"):\n",
    "    \"\"\"\n",
    "    Generator function to yield objects one at a time from a pickle file.\n",
    "\n",
    "    Args:\n",
    "        pickle_file_path (str): Path to the pickle file.\n",
    "\n",
    "    Yields:\n",
    "        dict: A dictionary with file name, df, freq as keys.\n",
    "\n",
    "    Raises:\n",
    "        FileNotFoundError: If the pickle file doesn't exist.\n",
    "        pickle.UnpicklingError: If the pickle file is corrupted.\n",
    "    \"\"\"\n",
    "    try:\n",
    "        with open(pickle_file_path, \"rb\") as f:\n",
    "            while True:\n",
    "                try:\n",
    "                    obj = pickle.load(f)\n",
    "                    items = [i for i in obj.items()][0]\n",
    "                    yield {\n",
    "                        \"name\": items[0].split('.')[0],\n",
    "                        \"df\": items[1][0],\n",
    "                        \"freq\": items[1][1],\n",
    "                    }\n",
    "                except EOFError:\n",
    "                    break\n",
    "    except FileNotFoundError:\n",
    "        raise FileNotFoundError(f\"Pickle file not found: {pickle_file_path}\")\n",
    "    except pickle.UnpicklingError:\n",
    "        raise pickle.UnpicklingError(\"Corrupted pickle file.\")"
   ]
  },
  {
   "cell_type": "code",
   "execution_count": 3,
   "id": "f385352a",
   "metadata": {},
   "outputs": [],
   "source": [
    "data_generator = yield_data()"
   ]
  },
  {
   "cell_type": "code",
   "execution_count": 4,
   "id": "8045a115",
   "metadata": {},
   "outputs": [],
   "source": [
    "def prepare_time_series(df, frequency):\n",
    "    \"\"\"\n",
    "    ## Generator function to yield individual time series DataFrames from a DataFrame with series_value lists.\n",
    "\n",
    "    ### Args:\n",
    "        - df (pd.DataFrame): DataFrame with series_name, start_timestamp, series_value.\n",
    "        - frequency (str): Frequency of the series (e.g., '4_seconds', 'half_hourly', 'daily').\n",
    "\n",
    "    ### Yields:\n",
    "        - pd.DataFrame: A DataFrame with timestamps as index and a single column for the series.\n",
    "\n",
    "    ### Raises:\n",
    "        - ValueError: If the frequency is unsupported.\n",
    "    \"\"\"\n",
    "    freq_map = {\n",
    "        '4_seconds': '4s',\n",
    "        'minutely': 'min',\n",
    "        'hourly': 'h',\n",
    "        'half_hourly': '30min',\n",
    "        'daily': 'D',\n",
    "        'weekly': 'W',\n",
    "        'monthly': 'ME',\n",
    "        'quarterly': 'Q',\n",
    "        'yearly': 'Y'\n",
    "    }\n",
    "\n",
    "    pandas_freq = freq_map.get(frequency)\n",
    "    if pandas_freq is None:\n",
    "        raise ValueError(f\"Unsupported frequency: {frequency}\")\n",
    "\n",
    "    for _, row in df.iterrows():\n",
    "        series_name = row['series_name']\n",
    "        try:\n",
    "            start_time = pd.to_datetime(row['start_timestamp'])\n",
    "        except KeyError:\n",
    "            start_time = pd.Timestamp(\"2000-01-01 00:00:00\")\n",
    "\n",
    "        values = row['series_value']\n",
    "        return pd.DataFrame(\n",
    "            {series_name: pd.Series(\n",
    "                values, index=pd.date_range(\n",
    "                    start=start_time, periods=len(values), freq=pandas_freq\n",
    "                    ))\n",
    "            }\n",
    "            )\n"
   ]
  },
  {
   "cell_type": "code",
   "execution_count": 44,
   "id": "b68cf888",
   "metadata": {},
   "outputs": [
    {
     "data": {
      "text/plain": [
       "{'name': 'dominick_dataset',\n",
       " 'df':        series_name                                       series_value\n",
       " 0               T1  [41.83, 0.0, 0.0, 0.0, 41.83, 0.0, 0.0, 0.0, 0...\n",
       " 1               T2  [68.85, 68.85, 0.0, 68.85, 0.0, 68.85, 0.0, 0....\n",
       " 2               T3  [0.0, 0.0, 0.0, 62.62, 62.62, 62.62, 0.0, 62.6...\n",
       " 3               T4  [67.99, 0.0, 0.0, 0.0, 0.0, 0.0, 0.0, 0.0, 0.0...\n",
       " 4               T5  [0.0, 0.0, 0.0, 62.58, 62.58, 0.0, 0.0, 62.58,...\n",
       " ...            ...                                                ...\n",
       " 115699     T115700  [0.0, 27.47, 33.54, 33.54, 33.56, 33.67, 33.67...\n",
       " 115700     T115701  [0.0, 26.31, 31.49, 33.67, 33.67, 33.67, 33.67...\n",
       " 115701     T115702  [0.0, 26.54, 33.26, 33.26, 33.26, 33.67, 33.67...\n",
       " 115702     T115703  [0.0, 27.39, 31.48, 33.21, 33.38, 33.67, 33.67...\n",
       " 115703     T115704  [0.0, 26.89, 0.0, 33.67, 33.67, 33.67, 33.67, ...\n",
       " \n",
       " [115704 rows x 2 columns],\n",
       " 'freq': 'weekly'}"
      ]
     },
     "execution_count": 44,
     "metadata": {},
     "output_type": "execute_result"
    }
   ],
   "source": [
    "from itertools import islice\n",
    "data_generator = yield_data()\n",
    "i = 23\n",
    "next(islice(data_generator, i, i + 1))\n"
   ]
  },
  {
   "cell_type": "code",
   "execution_count": 11,
   "id": "b1979294",
   "metadata": {},
   "outputs": [
    {
     "name": "stdout",
     "output_type": "stream",
     "text": [
      "0\n",
      "1\n"
     ]
    },
    {
     "ename": "KeyboardInterrupt",
     "evalue": "",
     "output_type": "error",
     "traceback": [
      "\u001b[0;31m---------------------------------------------------------------------------\u001b[0m",
      "\u001b[0;31mKeyboardInterrupt\u001b[0m                         Traceback (most recent call last)",
      "Cell \u001b[0;32mIn[11], line 4\u001b[0m\n\u001b[1;32m      1\u001b[0m i \u001b[38;5;241m=\u001b[39m \u001b[38;5;241m0\u001b[39m\n\u001b[1;32m      2\u001b[0m data_generator \u001b[38;5;241m=\u001b[39m yield_data()\n\u001b[0;32m----> 4\u001b[0m \u001b[38;5;28;01mfor\u001b[39;00m data \u001b[38;5;129;01min\u001b[39;00m data_generator:\n\u001b[1;32m      5\u001b[0m     prepare_time_series(data[\u001b[38;5;124m'\u001b[39m\u001b[38;5;124mdf\u001b[39m\u001b[38;5;124m'\u001b[39m], data[\u001b[38;5;124m'\u001b[39m\u001b[38;5;124mfreq\u001b[39m\u001b[38;5;124m'\u001b[39m])\n\u001b[1;32m      6\u001b[0m     \u001b[38;5;28mprint\u001b[39m(i)\n",
      "Cell \u001b[0;32mIn[2], line 23\u001b[0m, in \u001b[0;36myield_data\u001b[0;34m(pickle_file_path)\u001b[0m\n\u001b[1;32m     21\u001b[0m \u001b[38;5;28;01mwhile\u001b[39;00m \u001b[38;5;28;01mTrue\u001b[39;00m:\n\u001b[1;32m     22\u001b[0m     \u001b[38;5;28;01mtry\u001b[39;00m:\n\u001b[0;32m---> 23\u001b[0m         obj \u001b[38;5;241m=\u001b[39m \u001b[43mpickle\u001b[49m\u001b[38;5;241;43m.\u001b[39;49m\u001b[43mload\u001b[49m\u001b[43m(\u001b[49m\u001b[43mf\u001b[49m\u001b[43m)\u001b[49m\n\u001b[1;32m     24\u001b[0m         items \u001b[38;5;241m=\u001b[39m [i \u001b[38;5;28;01mfor\u001b[39;00m i \u001b[38;5;129;01min\u001b[39;00m obj\u001b[38;5;241m.\u001b[39mitems()][\u001b[38;5;241m0\u001b[39m]\n\u001b[1;32m     25\u001b[0m         \u001b[38;5;28;01myield\u001b[39;00m {\n\u001b[1;32m     26\u001b[0m             \u001b[38;5;124m\"\u001b[39m\u001b[38;5;124mname\u001b[39m\u001b[38;5;124m\"\u001b[39m: items[\u001b[38;5;241m0\u001b[39m]\u001b[38;5;241m.\u001b[39msplit(\u001b[38;5;124m'\u001b[39m\u001b[38;5;124m.\u001b[39m\u001b[38;5;124m'\u001b[39m)[\u001b[38;5;241m0\u001b[39m],\n\u001b[1;32m     27\u001b[0m             \u001b[38;5;124m\"\u001b[39m\u001b[38;5;124mdf\u001b[39m\u001b[38;5;124m\"\u001b[39m: items[\u001b[38;5;241m1\u001b[39m][\u001b[38;5;241m0\u001b[39m],\n\u001b[1;32m     28\u001b[0m             \u001b[38;5;124m\"\u001b[39m\u001b[38;5;124mfreq\u001b[39m\u001b[38;5;124m\"\u001b[39m: items[\u001b[38;5;241m1\u001b[39m][\u001b[38;5;241m1\u001b[39m],\n\u001b[1;32m     29\u001b[0m         }\n",
      "File \u001b[0;32minternals.pyx:629\u001b[0m, in \u001b[0;36mpandas._libs.internals._unpickle_block\u001b[0;34m()\u001b[0m\n",
      "File \u001b[0;32m~/miniconda3/envs/mlenv/lib/python3.10/site-packages/pandas/core/internals/blocks.py:2645\u001b[0m, in \u001b[0;36mmaybe_coerce_values\u001b[0;34m(values)\u001b[0m\n\u001b[1;32m   2638\u001b[0m     \u001b[38;5;18m__slots__\u001b[39m \u001b[38;5;241m=\u001b[39m ()\n\u001b[1;32m   2641\u001b[0m \u001b[38;5;66;03m# -----------------------------------------------------------------\u001b[39;00m\n\u001b[1;32m   2642\u001b[0m \u001b[38;5;66;03m# Constructor Helpers\u001b[39;00m\n\u001b[0;32m-> 2645\u001b[0m \u001b[38;5;28;01mdef\u001b[39;00m \u001b[38;5;21mmaybe_coerce_values\u001b[39m(values: ArrayLike) \u001b[38;5;241m-\u001b[39m\u001b[38;5;241m>\u001b[39m ArrayLike:\n\u001b[1;32m   2646\u001b[0m \u001b[38;5;250m    \u001b[39m\u001b[38;5;124;03m\"\"\"\u001b[39;00m\n\u001b[1;32m   2647\u001b[0m \u001b[38;5;124;03m    Input validation for values passed to __init__. Ensure that\u001b[39;00m\n\u001b[1;32m   2648\u001b[0m \u001b[38;5;124;03m    any datetime64/timedelta64 dtypes are in nanoseconds.  Ensure\u001b[39;00m\n\u001b[0;32m   (...)\u001b[0m\n\u001b[1;32m   2657\u001b[0m \u001b[38;5;124;03m    values : np.ndarray or ExtensionArray\u001b[39;00m\n\u001b[1;32m   2658\u001b[0m \u001b[38;5;124;03m    \"\"\"\u001b[39;00m\n\u001b[1;32m   2659\u001b[0m     \u001b[38;5;66;03m# Caller is responsible for ensuring NumpyExtensionArray is already extracted.\u001b[39;00m\n",
      "\u001b[0;31mKeyboardInterrupt\u001b[0m: "
     ]
    }
   ],
   "source": [
    "i = 0\n",
    "data_generator = yield_data()\n",
    "\n",
    "for data in data_generator:\n",
    "    prepare_time_series(data['df'], data['freq'])\n",
    "    print(i)\n",
    "    i += 1"
   ]
  },
  {
   "cell_type": "code",
   "execution_count": 13,
   "id": "1919e943",
   "metadata": {},
   "outputs": [],
   "source": [
    "data_generator = yield_data()"
   ]
  },
  {
   "cell_type": "code",
   "execution_count": 6,
   "id": "f4cb5376",
   "metadata": {},
   "outputs": [
    {
     "data": {
      "text/html": [
       "<div>\n",
       "<style scoped>\n",
       "    .dataframe tbody tr th:only-of-type {\n",
       "        vertical-align: middle;\n",
       "    }\n",
       "\n",
       "    .dataframe tbody tr th {\n",
       "        vertical-align: top;\n",
       "    }\n",
       "\n",
       "    .dataframe thead th {\n",
       "        text-align: right;\n",
       "    }\n",
       "</style>\n",
       "<table border=\"1\" class=\"dataframe\">\n",
       "  <thead>\n",
       "    <tr style=\"text-align: right;\">\n",
       "      <th></th>\n",
       "      <th>T1</th>\n",
       "    </tr>\n",
       "  </thead>\n",
       "  <tbody>\n",
       "    <tr>\n",
       "      <th>2019-08-01 00:00:03</th>\n",
       "      <td>0.0</td>\n",
       "    </tr>\n",
       "    <tr>\n",
       "      <th>2019-08-01 00:00:07</th>\n",
       "      <td>0.0</td>\n",
       "    </tr>\n",
       "    <tr>\n",
       "      <th>2019-08-01 00:00:11</th>\n",
       "      <td>0.0</td>\n",
       "    </tr>\n",
       "    <tr>\n",
       "      <th>2019-08-01 00:00:15</th>\n",
       "      <td>0.0</td>\n",
       "    </tr>\n",
       "    <tr>\n",
       "      <th>2019-08-01 00:00:19</th>\n",
       "      <td>0.0</td>\n",
       "    </tr>\n",
       "    <tr>\n",
       "      <th>...</th>\n",
       "      <td>...</td>\n",
       "    </tr>\n",
       "    <tr>\n",
       "      <th>2020-07-08 11:07:51</th>\n",
       "      <td>0.0</td>\n",
       "    </tr>\n",
       "    <tr>\n",
       "      <th>2020-07-08 11:07:55</th>\n",
       "      <td>0.0</td>\n",
       "    </tr>\n",
       "    <tr>\n",
       "      <th>2020-07-08 11:07:59</th>\n",
       "      <td>0.0</td>\n",
       "    </tr>\n",
       "    <tr>\n",
       "      <th>2020-07-08 11:08:03</th>\n",
       "      <td>0.0</td>\n",
       "    </tr>\n",
       "    <tr>\n",
       "      <th>2020-07-08 11:08:07</th>\n",
       "      <td>0.0</td>\n",
       "    </tr>\n",
       "  </tbody>\n",
       "</table>\n",
       "<p>7397222 rows × 1 columns</p>\n",
       "</div>"
      ],
      "text/plain": [
       "                      T1\n",
       "2019-08-01 00:00:03  0.0\n",
       "2019-08-01 00:00:07  0.0\n",
       "2019-08-01 00:00:11  0.0\n",
       "2019-08-01 00:00:15  0.0\n",
       "2019-08-01 00:00:19  0.0\n",
       "...                  ...\n",
       "2020-07-08 11:07:51  0.0\n",
       "2020-07-08 11:07:55  0.0\n",
       "2020-07-08 11:07:59  0.0\n",
       "2020-07-08 11:08:03  0.0\n",
       "2020-07-08 11:08:07  0.0\n",
       "\n",
       "[7397222 rows x 1 columns]"
      ]
     },
     "execution_count": 6,
     "metadata": {},
     "output_type": "execute_result"
    }
   ],
   "source": [
    "data_generator = yield_data()\n",
    "data = next(data_generator)\n",
    "prepare_time_series(data['df'], data['freq'])"
   ]
  },
  {
   "cell_type": "code",
   "execution_count": null,
   "id": "8da23668",
   "metadata": {},
   "outputs": [],
   "source": []
  }
 ],
 "metadata": {
  "kernelspec": {
   "display_name": "mlenv",
   "language": "python",
   "name": "python3"
  },
  "language_info": {
   "codemirror_mode": {
    "name": "ipython",
    "version": 3
   },
   "file_extension": ".py",
   "mimetype": "text/x-python",
   "name": "python",
   "nbconvert_exporter": "python",
   "pygments_lexer": "ipython3",
   "version": "3.10.14"
  }
 },
 "nbformat": 4,
 "nbformat_minor": 5
}
