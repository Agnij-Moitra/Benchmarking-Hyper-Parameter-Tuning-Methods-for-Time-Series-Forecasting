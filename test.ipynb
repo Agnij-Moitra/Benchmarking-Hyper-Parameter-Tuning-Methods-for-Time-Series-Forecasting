{
 "cells": [
  {
   "cell_type": "code",
   "execution_count": 1,
   "metadata": {},
   "outputs": [],
   "source": [
    "f = open(r\"./data/monash/monash-df.pkl\", \"rb\")"
   ]
  },
  {
   "cell_type": "code",
   "execution_count": 2,
   "id": "a7ad9b6b",
   "metadata": {},
   "outputs": [],
   "source": [
    "import pickle\n",
    "import pandas as pd\n",
    "\n",
    "\n",
    "def yield_data(pickle_file_path=\"./data/monash/monash-df.pkl\"):\n",
    "    \"\"\"\n",
    "    ## Generator function to yield objects one at a time from a pickle file.\n",
    "\n",
    "    ### Args:\n",
    "        - pickle_file_path (str): Path to the pickle file.\n",
    "\n",
    "    ### Yields:\n",
    "        - dict: A dictionary with file name, df, freq as keys.\n",
    "\n",
    "    ### Raises:\n",
    "        - FileNotFoundError: If the pickle file doesn't exist.\n",
    "        - pickle.UnpicklingError: If the pickle file is corrupted.\n",
    "    \"\"\"\n",
    "    try:\n",
    "        with open(pickle_file_path, \"rb\") as f:\n",
    "            while True:\n",
    "                try:\n",
    "                    obj = pickle.load(f)\n",
    "                    items = [i for i in obj.items()][0]\n",
    "                    yield {\n",
    "                        \"name\": items[0].split('.')[0],\n",
    "                        \"df\": items[1][0],\n",
    "                        \"freq\": items[1][1],\n",
    "                    }\n",
    "                except EOFError:\n",
    "                    break\n",
    "    except FileNotFoundError:\n",
    "        raise FileNotFoundError(f\"Pickle file not found: {pickle_file_path}\")\n",
    "    except pickle.UnpicklingError:\n",
    "        raise pickle.UnpicklingError(\"Corrupted pickle file.\")"
   ]
  },
  {
   "cell_type": "code",
   "execution_count": 3,
   "id": "f385352a",
   "metadata": {},
   "outputs": [],
   "source": [
    "data_generator = yield_data()"
   ]
  },
  {
   "cell_type": "code",
   "execution_count": 4,
   "id": "8045a115",
   "metadata": {},
   "outputs": [],
   "source": [
    "def prepare_time_series(df, frequency):\n",
    "    \"\"\"\n",
    "    ## Generator function to yield individual time series DataFrames from a DataFrame with series_value lists.\n",
    "\n",
    "    ### Args:\n",
    "        - df (pd.DataFrame): DataFrame with series_name, start_timestamp, series_value.\n",
    "        - frequency (str): Frequency of the series (e.g., '4_seconds', 'half_hourly', 'daily').\n",
    "\n",
    "    ### Yields:\n",
    "        - pd.DataFrame: A DataFrame with timestamps as index and a single column for the series.\n",
    "\n",
    "    ### Raises:\n",
    "        - ValueError: If the frequency is unsupported.\n",
    "    \"\"\"\n",
    "    freq_map = {\n",
    "        '4_seconds': '4s',\n",
    "        'minutely': 'min',\n",
    "        'hourly': 'h',\n",
    "        'half_hourly': '30min',\n",
    "        'daily': 'D',\n",
    "        'weekly': 'W',\n",
    "        'monthly': 'ME',\n",
    "        'quarterly': 'QE',\n",
    "        'yearly': 'YE'\n",
    "    }\n",
    "\n",
    "    pandas_freq = freq_map.get(frequency)\n",
    "    if pandas_freq is None:\n",
    "        raise ValueError(f\"Unsupported frequency: {frequency}\")\n",
    "\n",
    "    for _, row in df.iterrows():\n",
    "        series_name = row['series_name']\n",
    "        try:\n",
    "            start_time = pd.to_datetime(row['start_timestamp'])\n",
    "        except KeyError:\n",
    "            start_time = pd.Timestamp(\"2000-01-01 00:00:00\")\n",
    "        values = row['series_value']\n",
    "        yield pd.DataFrame(\n",
    "            {series_name: pd.Series(\n",
    "                values, index=pd.date_range(\n",
    "                    start=start_time, periods=len(values), freq=pandas_freq\n",
    "                )\n",
    "            )\n",
    "            }\n",
    "        )"
   ]
  },
  {
   "cell_type": "code",
   "execution_count": 44,
   "id": "b68cf888",
   "metadata": {},
   "outputs": [
    {
     "data": {
      "text/plain": [
       "{'name': 'dominick_dataset',\n",
       " 'df':        series_name                                       series_value\n",
       " 0               T1  [41.83, 0.0, 0.0, 0.0, 41.83, 0.0, 0.0, 0.0, 0...\n",
       " 1               T2  [68.85, 68.85, 0.0, 68.85, 0.0, 68.85, 0.0, 0....\n",
       " 2               T3  [0.0, 0.0, 0.0, 62.62, 62.62, 62.62, 0.0, 62.6...\n",
       " 3               T4  [67.99, 0.0, 0.0, 0.0, 0.0, 0.0, 0.0, 0.0, 0.0...\n",
       " 4               T5  [0.0, 0.0, 0.0, 62.58, 62.58, 0.0, 0.0, 62.58,...\n",
       " ...            ...                                                ...\n",
       " 115699     T115700  [0.0, 27.47, 33.54, 33.54, 33.56, 33.67, 33.67...\n",
       " 115700     T115701  [0.0, 26.31, 31.49, 33.67, 33.67, 33.67, 33.67...\n",
       " 115701     T115702  [0.0, 26.54, 33.26, 33.26, 33.26, 33.67, 33.67...\n",
       " 115702     T115703  [0.0, 27.39, 31.48, 33.21, 33.38, 33.67, 33.67...\n",
       " 115703     T115704  [0.0, 26.89, 0.0, 33.67, 33.67, 33.67, 33.67, ...\n",
       " \n",
       " [115704 rows x 2 columns],\n",
       " 'freq': 'weekly'}"
      ]
     },
     "execution_count": 44,
     "metadata": {},
     "output_type": "execute_result"
    }
   ],
   "source": [
    "from itertools import islice\n",
    "data_generator = yield_data()\n",
    "i = 23\n",
    "next(islice(data_generator, i, i + 1))\n"
   ]
  },
  {
   "cell_type": "code",
   "execution_count": null,
   "id": "8da23668",
   "metadata": {},
   "outputs": [],
   "source": []
  }
 ],
 "metadata": {
  "kernelspec": {
   "display_name": "mlenv",
   "language": "python",
   "name": "python3"
  },
  "language_info": {
   "codemirror_mode": {
    "name": "ipython",
    "version": 3
   },
   "file_extension": ".py",
   "mimetype": "text/x-python",
   "name": "python",
   "nbconvert_exporter": "python",
   "pygments_lexer": "ipython3",
   "version": "3.10.14"
  }
 },
 "nbformat": 4,
 "nbformat_minor": 5
}
