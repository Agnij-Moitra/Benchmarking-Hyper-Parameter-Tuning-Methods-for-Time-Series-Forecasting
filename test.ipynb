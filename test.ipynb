{
 "cells": [
  {
   "cell_type": "code",
   "execution_count": 1,
   "metadata": {},
   "outputs": [],
   "source": [
    "f = open(r\"./data/monash/monash-df.pkl\", \"rb\")"
   ]
  },
  {
   "cell_type": "code",
   "execution_count": 102,
   "id": "a7ad9b6b",
   "metadata": {},
   "outputs": [],
   "source": [
    "import pickle\n",
    "\n",
    "def yield_data(pickle_file_path=\"./data/monash/monash-df.pkl\"):\n",
    "    \"\"\"\n",
    "    Generator function to yield objects one at a time from a pickle file.\n",
    "    \n",
    "    Args:\n",
    "        pickle_file_path (str): Path to the pickle file.\n",
    "    \n",
    "    Yields:\n",
    "        dict: A dictionary with file name, df, freq as keys.\n",
    "    \n",
    "    Raises:\n",
    "        FileNotFoundError: If the pickle file doesn't exist.\n",
    "        pickle.UnpicklingError: If the pickle file is corrupted.\n",
    "    \"\"\"\n",
    "    try:\n",
    "        with open(pickle_file_path, \"rb\") as f:\n",
    "            while True:\n",
    "                try:\n",
    "                    obj = pickle.load(f)\n",
    "                    items = [i for i in obj.items()][0]\n",
    "                    yield {\n",
    "                        \"name\": items[0],\n",
    "                        \"df\": items[1][0],\n",
    "                        \"freq\": items[1][1],\n",
    "                        }\n",
    "                except EOFError:\n",
    "                    break\n",
    "    except FileNotFoundError:\n",
    "        raise FileNotFoundError(f\"Pickle file not found: {pickle_file_path}\")\n",
    "    except pickle.UnpicklingError:\n",
    "        raise pickle.UnpicklingError(\"Corrupted pickle file.\")\n"
   ]
  },
  {
   "cell_type": "code",
   "execution_count": 136,
   "id": "f385352a",
   "metadata": {},
   "outputs": [],
   "source": [
    "data_generator = yield_data()"
   ]
  },
  {
   "cell_type": "code",
   "execution_count": 149,
   "id": "8045a115",
   "metadata": {},
   "outputs": [],
   "source": [
    "import pandas as pd\n",
    "import numpy as np\n",
    "\n",
    "def prepare_time_series(df, frequency):\n",
    "    \"\"\"\n",
    "    Convert DataFrame with series_value lists to a time series DataFrame, handling varied frequencies.\n",
    "    \n",
    "    Args:\n",
    "        df (pd.DataFrame): DataFrame with series_name, start_timestamp, series_value.\n",
    "        frequency (str): Frequency of the series (e.g., '4_seconds', 'half_hourly', 'daily').\n",
    "    \n",
    "    Returns:\n",
    "        pd.DataFrame: DataFrame with timestamps as index and series_name as columns.\n",
    "    \n",
    "    Raises:\n",
    "        ValueError: If the frequency is unsupported.\n",
    "    \"\"\"\n",
    "    freq_map = {\n",
    "        '4_seconds': '4S', \n",
    "        'minutely': 'min',   \n",
    "        'hourly': 'h',     \n",
    "        'half_hourly': '30min',  \n",
    "        'daily': 'D',      \n",
    "        'weekly': 'W',     \n",
    "        'monthly': 'ME',    \n",
    "        'quarterly': 'Q',  \n",
    "        'yearly': 'Y'      \n",
    "    }\n",
    "    \n",
    "    pandas_freq = freq_map.get(frequency)\n",
    "    series_dict = {}\n",
    "    for _, row in df.iterrows():\n",
    "        series_name = row['series_name']\n",
    "        start_time = pd.to_datetime(row['start_timestamp'])\n",
    "        values = row['series_value']\n",
    "        timestamps = pd.date_range(start=start_time, periods=len(values), freq=pandas_freq)\n",
    "        series_dict[series_name] = pd.Series(values, index=timestamps)\n",
    "    ts_df = pd.DataFrame(series_dict)\n",
    "    return ts_df\n",
    "\n"
   ]
  },
  {
   "cell_type": "code",
   "execution_count": 150,
   "id": "b1979294",
   "metadata": {},
   "outputs": [
    {
     "name": "stderr",
     "output_type": "stream",
     "text": [
      "/tmp/ipykernel_104167/453263233.py:36: FutureWarning: 'T' is deprecated and will be removed in a future version, please use 'min' instead.\n",
      "  timestamps = pd.date_range(start=start_time, periods=len(values), freq=pandas_freq)\n"
     ]
    }
   ],
   "source": [
    "data = next(data_generator)\n",
    "prepare_time_series(data['df'], data['freq'])"
   ]
  },
  {
   "cell_type": "code",
   "execution_count": null,
   "id": "a3d08875",
   "metadata": {},
   "outputs": [],
   "source": []
  }
 ],
 "metadata": {
  "kernelspec": {
   "display_name": "mlenv",
   "language": "python",
   "name": "python3"
  },
  "language_info": {
   "codemirror_mode": {
    "name": "ipython",
    "version": 3
   },
   "file_extension": ".py",
   "mimetype": "text/x-python",
   "name": "python",
   "nbconvert_exporter": "python",
   "pygments_lexer": "ipython3",
   "version": "3.10.14"
  }
 },
 "nbformat": 4,
 "nbformat_minor": 5
}
