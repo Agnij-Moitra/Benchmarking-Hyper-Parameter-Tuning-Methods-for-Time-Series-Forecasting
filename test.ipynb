{
 "cells": [
  {
   "cell_type": "code",
   "execution_count": 1,
   "metadata": {},
   "outputs": [],
   "source": [
    "f = open(r\"./data/monash/monash-df.pkl\", \"rb\")"
   ]
  },
  {
   "cell_type": "code",
   "execution_count": 37,
   "id": "a7ad9b6b",
   "metadata": {},
   "outputs": [],
   "source": [
    "import pickle\n",
    "\n",
    "\n",
    "def yield_data(pickle_file_path=\"./data/monash/monash-df.pkl\"):\n",
    "    \"\"\"\n",
    "    Generator function to yield objects one at a time from a pickle file.\n",
    "\n",
    "    Args:\n",
    "        pickle_file_path (str): Path to the pickle file.\n",
    "\n",
    "    Yields:\n",
    "        dict: A dictionary with file name, df, freq as keys.\n",
    "\n",
    "    Raises:\n",
    "        FileNotFoundError: If the pickle file doesn't exist.\n",
    "        pickle.UnpicklingError: If the pickle file is corrupted.\n",
    "    \"\"\"\n",
    "    try:\n",
    "        with open(pickle_file_path, \"rb\") as f:\n",
    "            while True:\n",
    "                try:\n",
    "                    obj = pickle.load(f)\n",
    "                    items = [i for i in obj.items()][0]\n",
    "                    yield {\n",
    "                        \"name\": items[0].split('.')[0],\n",
    "                        \"df\": items[1][0],\n",
    "                        \"freq\": items[1][1],\n",
    "                    }\n",
    "                except EOFError:\n",
    "                    break\n",
    "    except FileNotFoundError:\n",
    "        raise FileNotFoundError(f\"Pickle file not found: {pickle_file_path}\")\n",
    "    except pickle.UnpicklingError:\n",
    "        raise pickle.UnpicklingError(\"Corrupted pickle file.\")"
   ]
  },
  {
   "cell_type": "code",
   "execution_count": 38,
   "id": "f385352a",
   "metadata": {},
   "outputs": [],
   "source": [
    "data_generator = yield_data()"
   ]
  },
  {
   "cell_type": "code",
   "execution_count": 39,
   "id": "8045a115",
   "metadata": {},
   "outputs": [],
   "source": [
    "\n",
    "def prepare_time_series(df, frequency):\n",
    "    \"\"\"\n",
    "    Convert DataFrame with series_value lists to a time series DataFrame, handling varied frequencies.\n",
    "\n",
    "    Args:\n",
    "        df (pd.DataFrame): DataFrame with series_name, start_timestamp, series_value.\n",
    "        frequency (str): Frequency of the series (e.g., '4_seconds', 'half_hourly', 'daily').\n",
    "\n",
    "    Returns:\n",
    "        pd.DataFrame: DataFrame with timestamps as index and series_name as columns.\n",
    "\n",
    "    Raises:\n",
    "        ValueError: If the frequency is unsupported.\n",
    "    \"\"\"\n",
    "    freq_map = {\n",
    "        '4_seconds': '4S',\n",
    "        'minutely': 'min',\n",
    "        'hourly': 'h',\n",
    "        'half_hourly': '30min',\n",
    "        'daily': 'D',\n",
    "        'weekly': 'W',\n",
    "        'monthly': 'ME',\n",
    "        'quarterly': 'Q',\n",
    "        'yearly': 'Y'\n",
    "    }\n",
    "\n",
    "    pandas_freq = freq_map.get(frequency)\n",
    "    if pandas_freq is None:\n",
    "        raise ValueError(f\"Unsupported frequency: {frequency}\")\n",
    "    series_dict = {}\n",
    "    for _, row in df.iterrows():\n",
    "        series_name = row['series_name']\n",
    "        try:\n",
    "            start_time = pd.to_datetime(row['start_timestamp'])\n",
    "        except KeyError:\n",
    "            start_time = pd.Timestamp(\"2000-01-01 00:00:00\")\n",
    "\n",
    "        values = row['series_value']\n",
    "        timestamps = pd.date_range(\n",
    "            start=start_time, periods=len(values), freq=pandas_freq)\n",
    "        series_dict[series_name] = pd.Series(values, index=timestamps)\n",
    "\n",
    "    ts_df = pd.DataFrame(series_dict)\n",
    "    return ts_df"
   ]
  },
  {
   "cell_type": "code",
   "execution_count": 40,
   "id": "dc3ec871",
   "metadata": {},
   "outputs": [
    {
     "name": "stdout",
     "output_type": "stream",
     "text": [
      "DataFrame 0 ('kdd_cup_2018_dataset_without_missing_values') columns: ['series_name', 'city', 'station', 'air_quality_measurement', 'start_timestamp', 'series_value']\n",
      "DataFrame 1 ('solar_4_seconds_dataset') columns: ['series_name', 'start_timestamp', 'series_value']\n",
      "DataFrame 2 ('pedestrian_counts_dataset') columns: ['series_name', 'start_timestamp', 'series_value']\n",
      "DataFrame 3 ('traffic_hourly_dataset') columns: ['series_name', 'start_timestamp', 'series_value']\n",
      "DataFrame 4 ('temperature_rain_dataset_without_missing_values') columns: ['series_name', 'station_id', 'obs_or_fcst', 'start_timestamp', 'series_value']\n",
      "DataFrame 5 ('saugeenday_dataset') columns: ['series_name', 'start_timestamp', 'series_value']\n",
      "DataFrame 6 ('tourism_monthly_dataset') columns: ['series_name', 'start_timestamp', 'series_value']\n",
      "DataFrame 7 ('bitcoin_dataset_without_missing_values') columns: ['series_name', 'start_timestamp', 'series_value']\n",
      "DataFrame 8 ('wind_farms_minutely_dataset_without_missing_values') columns: ['series_name', 'start_timestamp', 'series_value']\n",
      "DataFrame 9 ('cif_2016_dataset') columns: ['series_name', 'horizon', 'series_value']\n",
      "DataFrame 10 ('solar_weekly_dataset') columns: ['series_name', 'start_timestamp', 'series_value']\n",
      "DataFrame 11 ('kaggle_web_traffic_dataset_without_missing_values') columns: ['series_name', 'start_timestamp', 'series_value']\n",
      "DataFrame 12 ('m1_yearly_dataset') columns: ['series_name', 'start_timestamp', 'series_value']\n",
      "DataFrame 13 ('tourism_yearly_dataset') columns: ['series_name', 'start_timestamp', 'series_value']\n",
      "DataFrame 14 ('fred_md_dataset') columns: ['series_name', 'start_timestamp', 'series_value']\n",
      "DataFrame 15 ('traffic_weekly_dataset') columns: ['series_name', 'start_timestamp', 'series_value']\n",
      "DataFrame 16 ('m3_monthly_dataset') columns: ['series_name', 'start_timestamp', 'series_value']\n",
      "DataFrame 17 ('covid_deaths_dataset') columns: ['series_name', 'start_timestamp', 'series_value']\n",
      "DataFrame 18 ('us_births_dataset') columns: ['series_name', 'start_timestamp', 'series_value']\n",
      "DataFrame 19 ('weather_dataset') columns: ['series_name', 'series_type', 'series_value']\n",
      "DataFrame 20 ('m4_monthly_dataset') columns: ['series_name', 'start_timestamp', 'series_value']\n",
      "DataFrame 21 ('m1_quarterly_dataset') columns: ['series_name', 'start_timestamp', 'series_value']\n",
      "DataFrame 22 ('kaggle_web_traffic_weekly_dataset') columns: ['series_name', 'start_timestamp', 'series_value']\n",
      "DataFrame 23 ('dominick_dataset') columns: ['series_name', 'series_value']\n",
      "DataFrame 24 ('car_parts_dataset_without_missing_values') columns: ['series_name', 'start_timestamp', 'series_value']\n",
      "DataFrame 25 ('m4_weekly_dataset') columns: ['series_name', 'start_timestamp', 'series_value']\n",
      "DataFrame 26 ('rideshare_dataset_without_missing_values') columns: ['series_name', 'source_location', 'provider_name', 'provider_service', 'type', 'start_timestamp', 'series_value']\n",
      "DataFrame 27 ('m3_yearly_dataset') columns: ['series_name', 'start_timestamp', 'series_value']\n",
      "DataFrame 28 ('m1_monthly_dataset') columns: ['series_name', 'start_timestamp', 'series_value']\n",
      "DataFrame 29 ('m4_quarterly_dataset') columns: ['series_name', 'start_timestamp', 'series_value']\n",
      "DataFrame 30 ('wind_4_seconds_dataset') columns: ['series_name', 'start_timestamp', 'series_value']\n",
      "DataFrame 31 ('m4_yearly_dataset') columns: ['series_name', 'start_timestamp', 'series_value']\n",
      "DataFrame 32 ('electricity_hourly_dataset') columns: ['series_name', 'start_timestamp', 'series_value']\n",
      "DataFrame 33 ('australian_electricity_demand_dataset') columns: ['series_name', 'state', 'start_timestamp', 'series_value']\n",
      "DataFrame 34 ('m3_quarterly_dataset') columns: ['series_name', 'start_timestamp', 'series_value']\n",
      "DataFrame 35 ('vehicle_trips_dataset_without_missing_values') columns: ['series_name', 'base_number', 'base_name', 'type', 'start_timestamp', 'series_value']\n",
      "DataFrame 36 ('london_smart_meters_dataset_without_missing_values') columns: ['series_name', 'start_timestamp', 'series_value']\n",
      "DataFrame 37 ('nn5_daily_dataset_without_missing_values') columns: ['series_name', 'start_timestamp', 'series_value']\n",
      "DataFrame 38 ('hospital_dataset') columns: ['series_name', 'start_timestamp', 'series_value']\n",
      "DataFrame 39 ('m4_daily_dataset') columns: ['series_name', 'start_timestamp', 'series_value']\n",
      "DataFrame 40 ('m4_hourly_dataset') columns: ['series_name', 'start_timestamp', 'series_value']\n",
      "DataFrame 41 ('sunspot_dataset_without_missing_values') columns: ['series_name', 'start_timestamp', 'series_value']\n",
      "DataFrame 42 ('tourism_quarterly_dataset') columns: ['series_name', 'start_timestamp', 'series_value']\n",
      "\n",
      "Indices of DataFrames missing 'start_timestamp': [9, 19, 23]\n"
     ]
    }
   ],
   "source": [
    "data_generator = yield_data()\n",
    "\n",
    "missing_indices = []\n",
    "\n",
    "for idx, item in enumerate(data_generator):\n",
    "    df = item['df']\n",
    "    name = item['name']\n",
    "\n",
    "    # Print the column names\n",
    "    print(f\"DataFrame {idx} ('{name}') columns:\", df.columns.tolist())\n",
    "\n",
    "    # Check for missing 'start_timestamp'\n",
    "    if 'start_timestamp' not in df.columns:\n",
    "        missing_indices.append(idx)\n",
    "\n",
    "print(\"\\nIndices of DataFrames missing 'start_timestamp':\", missing_indices)\n"
   ]
  },
  {
   "cell_type": "code",
   "execution_count": 44,
   "id": "b68cf888",
   "metadata": {},
   "outputs": [
    {
     "data": {
      "text/plain": [
       "{'name': 'dominick_dataset',\n",
       " 'df':        series_name                                       series_value\n",
       " 0               T1  [41.83, 0.0, 0.0, 0.0, 41.83, 0.0, 0.0, 0.0, 0...\n",
       " 1               T2  [68.85, 68.85, 0.0, 68.85, 0.0, 68.85, 0.0, 0....\n",
       " 2               T3  [0.0, 0.0, 0.0, 62.62, 62.62, 62.62, 0.0, 62.6...\n",
       " 3               T4  [67.99, 0.0, 0.0, 0.0, 0.0, 0.0, 0.0, 0.0, 0.0...\n",
       " 4               T5  [0.0, 0.0, 0.0, 62.58, 62.58, 0.0, 0.0, 62.58,...\n",
       " ...            ...                                                ...\n",
       " 115699     T115700  [0.0, 27.47, 33.54, 33.54, 33.56, 33.67, 33.67...\n",
       " 115700     T115701  [0.0, 26.31, 31.49, 33.67, 33.67, 33.67, 33.67...\n",
       " 115701     T115702  [0.0, 26.54, 33.26, 33.26, 33.26, 33.67, 33.67...\n",
       " 115702     T115703  [0.0, 27.39, 31.48, 33.21, 33.38, 33.67, 33.67...\n",
       " 115703     T115704  [0.0, 26.89, 0.0, 33.67, 33.67, 33.67, 33.67, ...\n",
       " \n",
       " [115704 rows x 2 columns],\n",
       " 'freq': 'weekly'}"
      ]
     },
     "execution_count": 44,
     "metadata": {},
     "output_type": "execute_result"
    }
   ],
   "source": [
    "from itertools import islice\n",
    "data_generator = yield_data()\n",
    "i = 23\n",
    "next(islice(data_generator, i, i + 1))\n"
   ]
  },
  {
   "cell_type": "code",
   "execution_count": null,
   "id": "b25c0f78",
   "metadata": {},
   "outputs": [],
   "source": [
    "def cleaned_prepare_time_series(data):\n",
    "    if data['name'] not in ['cif_2016_dataset', 'weather_dataset', 'dominick_dataset']:\n",
    "        return prepare_time_series(data['df'], data['freq'])\n",
    "    pass"
   ]
  },
  {
   "cell_type": "code",
   "execution_count": 7,
   "id": "b1979294",
   "metadata": {},
   "outputs": [
    {
     "name": "stdout",
     "output_type": "stream",
     "text": [
      "0\n"
     ]
    },
    {
     "name": "stderr",
     "output_type": "stream",
     "text": [
      "/tmp/ipykernel_55664/951930512.py:36: FutureWarning: 'S' is deprecated and will be removed in a future version, please use 's' instead.\n",
      "  timestamps = pd.date_range(start=start_time, periods=len(values), freq=pandas_freq)\n"
     ]
    },
    {
     "name": "stdout",
     "output_type": "stream",
     "text": [
      "1\n",
      "2\n",
      "3\n",
      "4\n",
      "5\n",
      "6\n",
      "7\n",
      "8\n"
     ]
    },
    {
     "ename": "KeyError",
     "evalue": "'start_timestamp'",
     "output_type": "error",
     "traceback": [
      "\u001b[0;31m---------------------------------------------------------------------------\u001b[0m",
      "\u001b[0;31mKeyError\u001b[0m                                  Traceback (most recent call last)",
      "File \u001b[0;32m~/miniconda3/envs/mlenv/lib/python3.10/site-packages/pandas/core/indexes/base.py:3805\u001b[0m, in \u001b[0;36mIndex.get_loc\u001b[0;34m(self, key)\u001b[0m\n\u001b[1;32m   3804\u001b[0m \u001b[38;5;28;01mtry\u001b[39;00m:\n\u001b[0;32m-> 3805\u001b[0m     \u001b[38;5;28;01mreturn\u001b[39;00m \u001b[38;5;28;43mself\u001b[39;49m\u001b[38;5;241;43m.\u001b[39;49m\u001b[43m_engine\u001b[49m\u001b[38;5;241;43m.\u001b[39;49m\u001b[43mget_loc\u001b[49m\u001b[43m(\u001b[49m\u001b[43mcasted_key\u001b[49m\u001b[43m)\u001b[49m\n\u001b[1;32m   3806\u001b[0m \u001b[38;5;28;01mexcept\u001b[39;00m \u001b[38;5;167;01mKeyError\u001b[39;00m \u001b[38;5;28;01mas\u001b[39;00m err:\n",
      "File \u001b[0;32mindex.pyx:167\u001b[0m, in \u001b[0;36mpandas._libs.index.IndexEngine.get_loc\u001b[0;34m()\u001b[0m\n",
      "File \u001b[0;32mindex.pyx:196\u001b[0m, in \u001b[0;36mpandas._libs.index.IndexEngine.get_loc\u001b[0;34m()\u001b[0m\n",
      "File \u001b[0;32mpandas/_libs/hashtable_class_helper.pxi:7081\u001b[0m, in \u001b[0;36mpandas._libs.hashtable.PyObjectHashTable.get_item\u001b[0;34m()\u001b[0m\n",
      "File \u001b[0;32mpandas/_libs/hashtable_class_helper.pxi:7089\u001b[0m, in \u001b[0;36mpandas._libs.hashtable.PyObjectHashTable.get_item\u001b[0;34m()\u001b[0m\n",
      "\u001b[0;31mKeyError\u001b[0m: 'start_timestamp'",
      "\nThe above exception was the direct cause of the following exception:\n",
      "\u001b[0;31mKeyError\u001b[0m                                  Traceback (most recent call last)",
      "Cell \u001b[0;32mIn[7], line 3\u001b[0m\n\u001b[1;32m      1\u001b[0m i \u001b[38;5;241m=\u001b[39m \u001b[38;5;241m0\u001b[39m\n\u001b[1;32m      2\u001b[0m \u001b[38;5;28;01mfor\u001b[39;00m data \u001b[38;5;129;01min\u001b[39;00m data_generator:\n\u001b[0;32m----> 3\u001b[0m     \u001b[43mprepare_time_series\u001b[49m\u001b[43m(\u001b[49m\u001b[43mdata\u001b[49m\u001b[43m[\u001b[49m\u001b[38;5;124;43m'\u001b[39;49m\u001b[38;5;124;43mdf\u001b[39;49m\u001b[38;5;124;43m'\u001b[39;49m\u001b[43m]\u001b[49m\u001b[43m,\u001b[49m\u001b[43m \u001b[49m\u001b[43mdata\u001b[49m\u001b[43m[\u001b[49m\u001b[38;5;124;43m'\u001b[39;49m\u001b[38;5;124;43mfreq\u001b[39;49m\u001b[38;5;124;43m'\u001b[39;49m\u001b[43m]\u001b[49m\u001b[43m)\u001b[49m\n\u001b[1;32m      4\u001b[0m     \u001b[38;5;28mprint\u001b[39m(i)\n\u001b[1;32m      5\u001b[0m     i \u001b[38;5;241m+\u001b[39m\u001b[38;5;241m=\u001b[39m \u001b[38;5;241m1\u001b[39m\n",
      "Cell \u001b[0;32mIn[4], line 34\u001b[0m, in \u001b[0;36mprepare_time_series\u001b[0;34m(df, frequency)\u001b[0m\n\u001b[1;32m     32\u001b[0m \u001b[38;5;28;01mfor\u001b[39;00m _, row \u001b[38;5;129;01min\u001b[39;00m df\u001b[38;5;241m.\u001b[39miterrows():\n\u001b[1;32m     33\u001b[0m     series_name \u001b[38;5;241m=\u001b[39m row[\u001b[38;5;124m'\u001b[39m\u001b[38;5;124mseries_name\u001b[39m\u001b[38;5;124m'\u001b[39m]\n\u001b[0;32m---> 34\u001b[0m     start_time \u001b[38;5;241m=\u001b[39m pd\u001b[38;5;241m.\u001b[39mto_datetime(\u001b[43mrow\u001b[49m\u001b[43m[\u001b[49m\u001b[38;5;124;43m'\u001b[39;49m\u001b[38;5;124;43mstart_timestamp\u001b[39;49m\u001b[38;5;124;43m'\u001b[39;49m\u001b[43m]\u001b[49m)\n\u001b[1;32m     35\u001b[0m     values \u001b[38;5;241m=\u001b[39m row[\u001b[38;5;124m'\u001b[39m\u001b[38;5;124mseries_value\u001b[39m\u001b[38;5;124m'\u001b[39m]\n\u001b[1;32m     36\u001b[0m     timestamps \u001b[38;5;241m=\u001b[39m pd\u001b[38;5;241m.\u001b[39mdate_range(start\u001b[38;5;241m=\u001b[39mstart_time, periods\u001b[38;5;241m=\u001b[39m\u001b[38;5;28mlen\u001b[39m(values), freq\u001b[38;5;241m=\u001b[39mpandas_freq)\n",
      "File \u001b[0;32m~/miniconda3/envs/mlenv/lib/python3.10/site-packages/pandas/core/series.py:1112\u001b[0m, in \u001b[0;36mSeries.__getitem__\u001b[0;34m(self, key)\u001b[0m\n\u001b[1;32m   1109\u001b[0m     \u001b[38;5;28;01mreturn\u001b[39;00m \u001b[38;5;28mself\u001b[39m\u001b[38;5;241m.\u001b[39m_values[key]\n\u001b[1;32m   1111\u001b[0m \u001b[38;5;28;01melif\u001b[39;00m key_is_scalar:\n\u001b[0;32m-> 1112\u001b[0m     \u001b[38;5;28;01mreturn\u001b[39;00m \u001b[38;5;28;43mself\u001b[39;49m\u001b[38;5;241;43m.\u001b[39;49m\u001b[43m_get_value\u001b[49m\u001b[43m(\u001b[49m\u001b[43mkey\u001b[49m\u001b[43m)\u001b[49m\n\u001b[1;32m   1114\u001b[0m \u001b[38;5;66;03m# Convert generator to list before going through hashable part\u001b[39;00m\n\u001b[1;32m   1115\u001b[0m \u001b[38;5;66;03m# (We will iterate through the generator there to check for slices)\u001b[39;00m\n\u001b[1;32m   1116\u001b[0m \u001b[38;5;28;01mif\u001b[39;00m is_iterator(key):\n",
      "File \u001b[0;32m~/miniconda3/envs/mlenv/lib/python3.10/site-packages/pandas/core/series.py:1228\u001b[0m, in \u001b[0;36mSeries._get_value\u001b[0;34m(self, label, takeable)\u001b[0m\n\u001b[1;32m   1225\u001b[0m     \u001b[38;5;28;01mreturn\u001b[39;00m \u001b[38;5;28mself\u001b[39m\u001b[38;5;241m.\u001b[39m_values[label]\n\u001b[1;32m   1227\u001b[0m \u001b[38;5;66;03m# Similar to Index.get_value, but we do not fall back to positional\u001b[39;00m\n\u001b[0;32m-> 1228\u001b[0m loc \u001b[38;5;241m=\u001b[39m \u001b[38;5;28;43mself\u001b[39;49m\u001b[38;5;241;43m.\u001b[39;49m\u001b[43mindex\u001b[49m\u001b[38;5;241;43m.\u001b[39;49m\u001b[43mget_loc\u001b[49m\u001b[43m(\u001b[49m\u001b[43mlabel\u001b[49m\u001b[43m)\u001b[49m\n\u001b[1;32m   1230\u001b[0m \u001b[38;5;28;01mif\u001b[39;00m is_integer(loc):\n\u001b[1;32m   1231\u001b[0m     \u001b[38;5;28;01mreturn\u001b[39;00m \u001b[38;5;28mself\u001b[39m\u001b[38;5;241m.\u001b[39m_values[loc]\n",
      "File \u001b[0;32m~/miniconda3/envs/mlenv/lib/python3.10/site-packages/pandas/core/indexes/base.py:3812\u001b[0m, in \u001b[0;36mIndex.get_loc\u001b[0;34m(self, key)\u001b[0m\n\u001b[1;32m   3807\u001b[0m     \u001b[38;5;28;01mif\u001b[39;00m \u001b[38;5;28misinstance\u001b[39m(casted_key, \u001b[38;5;28mslice\u001b[39m) \u001b[38;5;129;01mor\u001b[39;00m (\n\u001b[1;32m   3808\u001b[0m         \u001b[38;5;28misinstance\u001b[39m(casted_key, abc\u001b[38;5;241m.\u001b[39mIterable)\n\u001b[1;32m   3809\u001b[0m         \u001b[38;5;129;01mand\u001b[39;00m \u001b[38;5;28many\u001b[39m(\u001b[38;5;28misinstance\u001b[39m(x, \u001b[38;5;28mslice\u001b[39m) \u001b[38;5;28;01mfor\u001b[39;00m x \u001b[38;5;129;01min\u001b[39;00m casted_key)\n\u001b[1;32m   3810\u001b[0m     ):\n\u001b[1;32m   3811\u001b[0m         \u001b[38;5;28;01mraise\u001b[39;00m InvalidIndexError(key)\n\u001b[0;32m-> 3812\u001b[0m     \u001b[38;5;28;01mraise\u001b[39;00m \u001b[38;5;167;01mKeyError\u001b[39;00m(key) \u001b[38;5;28;01mfrom\u001b[39;00m \u001b[38;5;21;01merr\u001b[39;00m\n\u001b[1;32m   3813\u001b[0m \u001b[38;5;28;01mexcept\u001b[39;00m \u001b[38;5;167;01mTypeError\u001b[39;00m:\n\u001b[1;32m   3814\u001b[0m     \u001b[38;5;66;03m# If we have a listlike key, _check_indexing_error will raise\u001b[39;00m\n\u001b[1;32m   3815\u001b[0m     \u001b[38;5;66;03m#  InvalidIndexError. Otherwise we fall through and re-raise\u001b[39;00m\n\u001b[1;32m   3816\u001b[0m     \u001b[38;5;66;03m#  the TypeError.\u001b[39;00m\n\u001b[1;32m   3817\u001b[0m     \u001b[38;5;28mself\u001b[39m\u001b[38;5;241m.\u001b[39m_check_indexing_error(key)\n",
      "\u001b[0;31mKeyError\u001b[0m: 'start_timestamp'"
     ]
    }
   ],
   "source": [
    "i = 0\n",
    "for data in data_generator:\n",
    "    prepare_time_series(data['df'], data['freq'])\n",
    "    print(i)\n",
    "    i += 1"
   ]
  },
  {
   "cell_type": "code",
   "execution_count": null,
   "id": "f4cb5376",
   "metadata": {},
   "outputs": [],
   "source": []
  }
 ],
 "metadata": {
  "kernelspec": {
   "display_name": "mlenv",
   "language": "python",
   "name": "python3"
  },
  "language_info": {
   "codemirror_mode": {
    "name": "ipython",
    "version": 3
   },
   "file_extension": ".py",
   "mimetype": "text/x-python",
   "name": "python",
   "nbconvert_exporter": "python",
   "pygments_lexer": "ipython3",
   "version": "3.10.14"
  }
 },
 "nbformat": 4,
 "nbformat_minor": 5
}
